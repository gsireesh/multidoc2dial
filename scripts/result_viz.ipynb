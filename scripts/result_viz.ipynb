{
 "cells": [
  {
   "cell_type": "code",
   "execution_count": 1,
   "id": "6fd69122-6346-4d42-8f6a-66e85672996b",
   "metadata": {},
   "outputs": [],
   "source": [
    "from collections import defaultdict\n",
    "import itertools\n",
    "import json\n",
    "import sys\n",
    "import os\n",
    "import random\n",
    "\n",
    "from datasets import load_dataset\n",
    "from IPython.display import HTML\n",
    "from matplotlib import pyplot as plt\n",
    "\n",
    "_PATH = '/Users/sireeshgururaja/src/11-797-multidoc2dial/multidoc2dial/'\n",
    "sys.path.append(os.path.join(_PATH))  # noqa: E402 # isort:skip"
   ]
  },
  {
   "cell_type": "code",
   "execution_count": 2,
   "id": "4d5aafaf-79fd-4974-a0b6-3ba54748bf24",
   "metadata": {},
   "outputs": [],
   "source": [
    "val_data = json.load(open(_PATH + 'data/multidoc2dial/multidoc2dial_dial_validation.json','r'))\n",
    "docs = json.load(open(_PATH + 'data/multidoc2dial/multidoc2dial_doc.json','r'))\n",
    "\n",
    "# dialogue act type. Are these all `query_condition?`\n",
    "DAs      = [line.strip() for line in open(_PATH + 'data/mdd_all/dd-generation-structure/val.{}'.format('da'), \"r\").readlines()]\n",
    "# domain - dmv, ssa, studentaid, va\n",
    "domains  = [line.strip() for line in open(_PATH + 'data/mdd_all/dd-generation-structure/val.{}'.format('domain'), \"r\").readlines()]\n",
    "# gold passage ID to answer this question\n",
    "pids     = [line.strip() for line in open(_PATH + 'data/mdd_all/dd-generation-structure/val.{}'.format('pids'), \"r\").readlines()]\n",
    "# query IDs, in the format {ID}_{turn}\n",
    "qids     = [line.strip() for line in open(_PATH + 'data/mdd_all/dd-generation-structure/val.{}'.format('qids'), \"r\").readlines()]\n",
    "# the actual text of the query\n",
    "sources  = [line.strip() for line in open(_PATH + 'data/mdd_all/dd-generation-structure/val.{}'.format('source'), \"r\").readlines()]\n",
    "# Gold responses\n",
    "targets  = [line.strip() for line in open(_PATH + 'data/mdd_all/dd-generation-structure/val.{}'.format('target'), \"r\").readlines()]\n",
    "# Gold article titles\n",
    "titles   = [line.strip() for line in open(_PATH + 'data/mdd_all/dd-generation-structure/val.{}'.format('titles'), \"r\").readlines()]"
   ]
  },
  {
   "cell_type": "code",
   "execution_count": 3,
   "id": "c99d756a",
   "metadata": {},
   "outputs": [
    {
     "data": {
      "text/plain": [
       "(4201, 4201, 4201, 4201, 4201, 4201, 4201)"
      ]
     },
     "execution_count": 3,
     "metadata": {},
     "output_type": "execute_result"
    }
   ],
   "source": [
    "# making sure we have the same number of document turns here.\n",
    "len(DAs), len(domains), len(pids), len(qids), len(sources), len(targets), len(titles)"
   ]
  },
  {
   "cell_type": "code",
   "execution_count": 4,
   "id": "6b05a109-feff-4efe-adf2-532f811fc36d",
   "metadata": {},
   "outputs": [],
   "source": [
    "retr_results = [line.replace('####', '\\t').replace('\\n', '').split('\\t') for line in open('Results_retrieval.txt', \"r\").readlines()]\n",
    "grounding_pids = []\n",
    "grounding_titles = []\n",
    "for x in retr_results:\n",
    "    len_ = len(x)\n",
    "    grounding_titles.append(x[:len_//2])\n",
    "    grounding_pids.append(x[len_//2:])\n",
    "\n",
    "\n",
    "hypos = [line.strip() for line in open('Results_generation.txt', \"r\").readlines()]\n",
    "assert len(DAs) == len(domains) == len(pids) == len(qids) == len(sources) == len(targets) == len(titles) == len(retr_results) == len(hypos)"
   ]
  },
  {
   "cell_type": "code",
   "execution_count": 5,
   "id": "6210f7e9",
   "metadata": {},
   "outputs": [
    {
     "data": {
      "text/plain": [
       "4201"
      ]
     },
     "execution_count": 5,
     "metadata": {},
     "output_type": "execute_result"
    }
   ],
   "source": [
    "len(hypos)"
   ]
  },
  {
   "cell_type": "code",
   "execution_count": 12,
   "id": "2376bc65-fff1-4f83-b1c4-a47ec4968095",
   "metadata": {},
   "outputs": [],
   "source": [
    "from scripts.rag.utils_rag import exact_match_score, f1_score\n",
    "\n",
    "def metric_max_over_ground_truths(metric_fn, prediction, ground_truths):\n",
    "    return max(metric_fn(prediction, gt) for gt in ground_truths)\n",
    "\n",
    "from datasets import load_metric\n",
    "metric = load_metric(\"sacrebleu\")\n",
    "\n",
    "generation_metrics = []\n",
    "metrics_by_query = defaultdict(lambda: [])\n",
    "metrics_by_turn_no = defaultdict(lambda: [])\n",
    "\n",
    "for qid, prediction, ground_truths in zip(qids, hypos, targets):\n",
    "    query_group, turn_id = qid.split(\"_\")\n",
    "    em_i = metric_max_over_ground_truths(exact_match_score, prediction, [ground_truths]) \n",
    "    f1_i = metric_max_over_ground_truths(f1_score, prediction, [ground_truths])\n",
    "    metric.add_batch(predictions=[prediction], references=[[ground_truths]])\n",
    "    sbleu_i = metric.compute()[\"score\"]\n",
    "    metrics_dict = {'EM' : em_i, 'F1' : f1_i, 'sacrebleu' : sbleu_i}\n",
    "    generation_metrics.append(metrics_dict)\n",
    "    metrics_by_query[query_group].append(metrics_dict)\n",
    "    metrics_by_turn_no[turn_id].append(metrics_dict)\n"
   ]
  },
  {
   "cell_type": "code",
   "execution_count": 7,
   "id": "43d5362c-a369-40cb-bfff-0776074a247f",
   "metadata": {},
   "outputs": [],
   "source": [
    "def text2line(text):\n",
    "    return text.replace(\"\\n\", \" \").replace(\"\\r\", \" \").replace(\"\\t\", \" \").strip()\n",
    "\n",
    "def split_text_section(spans, title):\n",
    "    def get_text(buff, title, span):\n",
    "        text = \" \".join(buff).replace(\"\\n\", \" \")\n",
    "        parent_titles = [title.replace(\"/\", \"-\").rsplit(\"#\")[0]]\n",
    "        if len(span[\"parent_titles\"]) > 1:\n",
    "            parent_titles = [ele['text'].replace(\"/\", \"-\").rsplit(\"#\")[0] for ele in span[\"parent_titles\"]]\n",
    "        text = \" / \".join(parent_titles) + \" // \" + text\n",
    "        return text2line(text)\n",
    "\n",
    "    buff = []\n",
    "    pre_sec, pre_title, pre_span = None, None, None\n",
    "    passages = []\n",
    "    subtitles = []\n",
    "        \n",
    "    for span_id in spans:\n",
    "        span = spans[span_id]\n",
    "        parent_titles = title\n",
    "        if len(span[\"parent_titles\"]) > 1:                        \n",
    "            parent_titles = [ele['text'].replace(\"/\", \"-\").rsplit(\"#\")[0] for ele in span[\"parent_titles\"]]\n",
    "            parent_titles = \" / \".join(parent_titles)\n",
    "        if pre_sec == span[\"id_sec\"] or pre_title == span[\"title\"].strip():\n",
    "            buff.append(span[\"text_sp\"])\n",
    "        elif buff:\n",
    "            text = get_text(buff, title, pre_span)\n",
    "            passages.append(text)\n",
    "            subtitles.append(parent_titles)\n",
    "            buff = [span[\"text_sp\"]]\n",
    "        else:\n",
    "            buff.append(span[\"text_sp\"])\n",
    "        pre_sec = span[\"id_sec\"]\n",
    "        pre_span = span\n",
    "        pre_title = span[\"title\"].strip()\n",
    "    if buff:\n",
    "        text = get_text(buff, title, span)\n",
    "        passages.append(text)\n",
    "        subtitles.append(parent_titles)\n",
    "    return passages, subtitles        "
   ]
  },
  {
   "cell_type": "code",
   "execution_count": 8,
   "id": "5a61c461-8187-4a60-9ff9-ef483ccc3875",
   "metadata": {},
   "outputs": [],
   "source": [
    "doc_passages = {}\n",
    "all_passages = []\n",
    "start_idx = 0\n",
    "for domain in docs['doc_data']:\n",
    "    for doc_idx, doc_id in enumerate(docs['doc_data'][domain].keys()):\n",
    "        ex = docs['doc_data'][domain][doc_id]\n",
    "        #passages = split_text(ex[\"doc_text\"]) # Token-based segmentation\n",
    "        passages, subtitles = split_text_section(ex[\"spans\"], ex[\"title\"])\n",
    "        all_passages.extend(passages)\n",
    "        doc_passages[ex[\"doc_id\"]] = (start_idx, len(passages), doc_idx)\n",
    "        start_idx += len(passages)\n",
    "        \n",
    "passage_map = {}\n",
    "for title in doc_passages:\n",
    "    psg_start_ix, n_psgs, doc_idx = doc_passages[title]\n",
    "    for i in range(n_psgs):\n",
    "        passage_map[psg_start_ix + i] = {\"text\": all_passages[psg_start_ix + i], \"title\": title, \"doc_idx\": doc_idx}"
   ]
  },
  {
   "cell_type": "code",
   "execution_count": 9,
   "id": "3e2c80ab-620d-430b-b464-36c127042125",
   "metadata": {},
   "outputs": [
    {
     "data": {
      "text/plain": [
       "{'text': 'Top 5 DMV Mistakes and How to Avoid Them //   3. Letting Insurance Lapse   Because we all pay indirectly for crashes involving uninsured motorists ,  New York State requires every motorist to maintain auto insurance every single day a vehicle is registered.  DMV works with insurance companies to electronically monitor your insurance coverage ,  and we know when coverage is dropped for any reason.  When that happens ,  we mail you an insurance inquiry letter to allow you to clear up the problem.  We send 500,000 inquiry letters a year.  If the inquiry letter does not resolve the problem ,  we must suspend the vehicle registration and ,  if it persists, your driver license!We suspend 300,000 registrations a year for failure to maintain insurance.  If you fail to maintain an updated address with us ,  you won t learn that you have an insurance problem ,  and we will suspend your registration and license.  Make sure you turn in your vehicle s license plates at DMV before you cancel your insurance policy.  Insurance policies must be from a company licensed in New York State.  Learn more about Insurances Lapes [2] and How to Surrender your Plates [3 ]',\n",
       " 'title': 'Top 5 DMV Mistakes and How to Avoid Them#3_0',\n",
       " 'doc_idx': 3}"
      ]
     },
     "execution_count": 9,
     "metadata": {},
     "output_type": "execute_result"
    }
   ],
   "source": [
    "passage_map[1806]"
   ]
  },
  {
   "cell_type": "code",
   "execution_count": 13,
   "id": "7f3258cd",
   "metadata": {},
   "outputs": [],
   "source": [
    "dialogue_map = defaultdict(lambda:{})\n",
    "doc_ids = []\n",
    "\n",
    "for i, (qid, pid) in enumerate(zip(qids, pids)):\n",
    "    dialogue_id, turn_id = qid.split(\"_\")\n",
    "    doc_idx = passage_map[int(pid)][\"doc_idx\"]\n",
    "    dialogue_map[dialogue_id][int(turn_id)] = {\n",
    "        \"query\": sources[i],\n",
    "        \"expected_response\": targets[i],\n",
    "        \"predicted_response\": hypos[i],\n",
    "        \"metrics\": generation_metrics[i],\n",
    "        \"grounding_doc\": doc_idx,\n",
    "    } \n",
    "    doc_ids.append(doc_idx)\n",
    "\n",
    "dialogue_map = dict(dialogue_map)"
   ]
  },
  {
   "cell_type": "code",
   "execution_count": 15,
   "id": "38b97384",
   "metadata": {},
   "outputs": [
    {
     "data": {
      "text/html": [
       "<style>td {text-align: left; } </style><table>\n",
       "<tr>\n",
       "    <td style=\"width:70%\">\n",
       "        <b>🤨:</b> Hi there. I would like to know, what happens with an adult with a disability if this one wants to get access to the social security benefits.[SEP]</br></br>\n",
       "        <b>📝:</b> Sure, no problem. Well. If you have all the requirements you can apply for the supplemental security income online.</br></br>\n",
       "        <b>🤖:</b> You can now file for Supplemental Security Income SSI online but only if you meet certain requirements.</br></br> \n",
       "    </td>\n",
       "    <td>\n",
       "        <b>Turn Index:</b> 1</br>\n",
       "        F1: 0.5882352941176471 </br>\n",
       "        sacrebleu: 2.5460814687679805 </br>\n",
       "        EM: False </br>\n",
       "        <b>Grounding doc:</b> 62\n",
       "    </td>\n",
       "</tr>\n",
       "\n",
       "\n",
       "<tr>\n",
       "    <td style=\"width:70%\">\n",
       "        <b>🤨:</b> Great! That's really great! But if this person have worked long enough may also receive the social security benefits as well as ssi?[SEP]agent: Sure, no problem. Well. If you have all the requirements you can apply for the supplemental security income online. ||user: Hi there. I would like to know, what happens with an adult with a disability if this one wants to get access to the social security benefits.</br></br>\n",
       "        <b>📝:</b> Yes, that's right. That way people without any disability also can have this benefits.</br></br>\n",
       "        <b>🤖:</b> Yes, they can. If they have worked long enough, they can get Supplemental Security Income (SSI) as well.</br></br> \n",
       "    </td>\n",
       "    <td>\n",
       "        <b>Turn Index:</b> 3</br>\n",
       "        F1: 0.1875 </br>\n",
       "        sacrebleu: 4.141141330484801 </br>\n",
       "        EM: False </br>\n",
       "        <b>Grounding doc:</b> 62\n",
       "    </td>\n",
       "</tr>\n",
       "\n",
       "\n",
       "<tr>\n",
       "    <td style=\"width:70%\">\n",
       "        <b>🤨:</b> If I want to apply for Medicare, Is there an age requirement before I can apply?[SEP]agent: Yes, that's right. That way people without any disability also can have this benefits.||user: Great! That's really great! But if this person have worked long enough may also receive the social security benefits as well as ssi?||agent: Sure, no problem. Well. If you have all the requirements you can apply for the supplemental security income online. ||user: Hi there. I would like to know, what happens with an adult with a disability if this one wants to get access to the social security benefits.</br></br>\n",
       "        <b>📝:</b> You should sign up for Medicare three months before reaching age 65 , even if you are not ready to start receiving retirement benefits</br></br>\n",
       "        <b>🤖:</b> Yes, you must be 65 years old or older, to apply.</br></br> \n",
       "    </td>\n",
       "    <td>\n",
       "        <b>Turn Index:</b> 5</br>\n",
       "        F1: 0.1764705882352941 </br>\n",
       "        sacrebleu: 1.9660670751694698 </br>\n",
       "        EM: False </br>\n",
       "        <b>Grounding doc:</b> 79\n",
       "    </td>\n",
       "</tr>\n",
       "\n",
       "\n",
       "<tr>\n",
       "    <td style=\"width:70%\">\n",
       "        <b>🤨:</b> if i am not ready to retire can I apply?[SEP]agent: Unfortunately, no relevant information is found.||user: no||agent: did you want to enroll in Medicare part B?||agent: You should sign up for Medicare three months before reaching age 65 , even if you are not ready to start receiving retirement benefits||user: If I want to apply for Medicare, Is there an age requirement before I can apply?||agent: Yes, that's right. That way people without any disability also can have this benefits.||user: Great! That's really great! But if this person have worked long enough may also receive the social security benefits as well as ssi?||agent: Sure, no problem. Well. If you have all the requirements you can apply for the supplemental security income online. ||user: Hi there. I would like to know, what happens with an adult with a disability if this one wants to get access to the social security benefits.</br></br>\n",
       "        <b>📝:</b> You can apply online for Medicare even if you are not ready to retire</br></br>\n",
       "        <b>🤖:</b> Yes, you can. If you are not getting Social Security and you are not ready to retire, you can still apply.</br></br> \n",
       "    </td>\n",
       "    <td>\n",
       "        <b>Turn Index:</b> 10</br>\n",
       "        F1: 0.5714285714285714 </br>\n",
       "        sacrebleu: 19.940445989088907 </br>\n",
       "        EM: False </br>\n",
       "        <b>Grounding doc:</b> 79\n",
       "    </td>\n",
       "</tr>\n",
       "</table>"
      ],
      "text/plain": [
       "<IPython.core.display.HTML object>"
      ]
     },
     "execution_count": 15,
     "metadata": {},
     "output_type": "execute_result"
    }
   ],
   "source": [
    "turn_template = \"\"\"\n",
    "<tr>\n",
    "    <td style=\"width:70%\">\n",
    "        <b>🤨:</b> {query}</br></br>\n",
    "        <b>📝:</b> {expected_response}</br></br>\n",
    "        <b>🤖:</b> {predicted_response}</br></br> \n",
    "    </td>\n",
    "    <td>\n",
    "        <b>Turn Index:</b> {turn_idx}</br>\n",
    "        F1: {F1} </br>\n",
    "        sacrebleu: {sacrebleu} </br>\n",
    "        EM: {EM} </br>\n",
    "        <b>Grounding doc:</b> {grounding_doc}\n",
    "    </td>\n",
    "</tr>\n",
    "\"\"\"\n",
    "\n",
    "def render_turn_dict(turn_idx: int, turn_dict) -> str:\n",
    "    return turn_template.format(turn_idx=turn_idx, **turn_dict, **turn_dict[\"metrics\"])\n",
    "\n",
    "def render_dialogue(dialogue_map, dialogue_id=None):\n",
    "    if dialogue_id is None:\n",
    "        dialogue_id = random.choice(list(dialogue_map.keys()))\n",
    "    turn_renders = []\n",
    "    for turn_idx, turn_dict in dialogue_map[dialogue_id].items():\n",
    "        turn_renders.append(render_turn_dict(turn_idx, turn_dict))\n",
    "\n",
    "    return HTML(\"\"\"<style>td {text-align: left; } </style><table>\"\"\" + \"\\n\".join(turn_renders) + \"</table>\", )\n",
    "\n",
    "render_dialogue(dialogue_map)"
   ]
  },
  {
   "cell_type": "code",
   "execution_count": 21,
   "id": "37111e51",
   "metadata": {},
   "outputs": [],
   "source": [
    "nonshift_f1s = []\n",
    "shift_f1s = []\n",
    "init_f1s = []\n",
    "\n",
    "nonshift_sb = []\n",
    "shift_sb = []\n",
    "init_sb = []\n",
    "\n",
    "for dialogue_id, turns_dict in dialogue_map.items():\n",
    "    prev_grounding_doc = None\n",
    "    for turn, turn_dict in turns_dict.items():\n",
    "        if prev_grounding_doc is None:\n",
    "            init_f1s.append(turn_dict[\"metrics\"][\"F1\"])\n",
    "            init_sb.append(turn_dict[\"metrics\"][\"sacrebleu\"])\n",
    "        elif turn_dict[\"grounding_doc\"] != prev_grounding_doc:\n",
    "            shift_f1s.append(turn_dict[\"metrics\"][\"F1\"])\n",
    "            shift_sb.append(turn_dict[\"metrics\"][\"sacrebleu\"])\n",
    "        else:\n",
    "            nonshift_f1s.append(turn_dict[\"metrics\"][\"F1\"])\n",
    "            nonshift_sb.append(turn_dict[\"metrics\"][\"sacrebleu\"])\n",
    "        prev_grounding_doc = turn_dict[\"grounding_doc\"]\n",
    "\n",
    "\n"
   ]
  },
  {
   "cell_type": "code",
   "execution_count": 24,
   "id": "cc41607c",
   "metadata": {},
   "outputs": [
    {
     "data": {
      "text/plain": [
       "(661, 905, 2635)"
      ]
     },
     "execution_count": 24,
     "metadata": {},
     "output_type": "execute_result"
    }
   ],
   "source": [
    "len(init_f1s), len(shift_f1s), len(nonshift_f1s)"
   ]
  },
  {
   "cell_type": "code",
   "execution_count": 35,
   "id": "1c0270f4",
   "metadata": {},
   "outputs": [
    {
     "data": {
      "text/plain": [
       "{'bodies': [<matplotlib.collections.PolyCollection at 0x2a8e7abb0>,\n",
       "  <matplotlib.collections.PolyCollection at 0x2a8f2bb50>,\n",
       "  <matplotlib.collections.PolyCollection at 0x2a8f2bf10>],\n",
       " 'cmeans': <matplotlib.collections.LineCollection at 0x2a8ddad30>,\n",
       " 'cmaxes': <matplotlib.collections.LineCollection at 0x2a8f38640>,\n",
       " 'cmins': <matplotlib.collections.LineCollection at 0x2a8f38a60>,\n",
       " 'cbars': <matplotlib.collections.LineCollection at 0x2a8f2b250>}"
      ]
     },
     "execution_count": 35,
     "metadata": {},
     "output_type": "execute_result"
    },
    {
     "data": {
      "image/png": "[encoded data removed]",
      "text/plain": [
       "<Figure size 720x360 with 1 Axes>"
      ]
     },
     "metadata": {},
     "output_type": "display_data"
    }
   ],
   "source": [
    "fig, ax = plt.subplots(figsize=(10,5))\n",
    "ax.set_title(\"F1 Scores Against Dialog Position\")\n",
    "ax.set_xticks([1,2,3], labels=[\"Initial Query\", \"First query after shift\", \"Nonshift\"])\n",
    "ax.violinplot([init_f1s, shift_f1s, nonshift_f1s], showmeans=True)"
   ]
  },
  {
   "cell_type": "code",
   "execution_count": 36,
   "id": "7a63e873",
   "metadata": {},
   "outputs": [
    {
     "data": {
      "text/plain": [
       "{'bodies': [<matplotlib.collections.PolyCollection at 0x2a8f9d7c0>,\n",
       "  <matplotlib.collections.PolyCollection at 0x2a8f9dbb0>,\n",
       "  <matplotlib.collections.PolyCollection at 0x2a8f9df70>],\n",
       " 'cmeans': <matplotlib.collections.LineCollection at 0x2a8f9d6d0>,\n",
       " 'cmaxes': <matplotlib.collections.LineCollection at 0x2a8fa56a0>,\n",
       " 'cmins': <matplotlib.collections.LineCollection at 0x2a8fa5ac0>,\n",
       " 'cbars': <matplotlib.collections.LineCollection at 0x2a8f8dfd0>}"
      ]
     },
     "execution_count": 36,
     "metadata": {},
     "output_type": "execute_result"
    },
    {
     "data": {
      "image/png": "[encoded data removed]",
      "text/plain": [
       "<Figure size 720x360 with 1 Axes>"
      ]
     },
     "metadata": {},
     "output_type": "display_data"
    }
   ],
   "source": [
    "fig, ax = plt.subplots(figsize=(10,5))\n",
    "ax.set_title(\"Sacrebleu Scores Against Dialog Position\")\n",
    "ax.set_xticks([1,2,3], labels=[\"Initial Query\", \"First query after shift\", \"Nonshift\"])\n",
    "ax.violinplot([init_sb, shift_sb, nonshift_sb], showmeans=True)"
   ]
  },
  {
   "cell_type": "code",
   "execution_count": null,
   "id": "1fad425b",
   "metadata": {},
   "outputs": [],
   "source": []
  }
 ],
 "metadata": {
  "interpreter": {
   "hash": "ac736775ba0c07ac705886dfe6d8a02e8802be2416449291ea070695670638ce"
  },
  "kernelspec": {
   "display_name": "Python 3.9.7 ('multidoc2dial': conda)",
   "language": "python",
   "name": "python3"
  },
  "language_info": {
   "codemirror_mode": {
    "name": "ipython",
    "version": 3
   },
   "file_extension": ".py",
   "mimetype": "text/x-python",
   "name": "python",
   "nbconvert_exporter": "python",
   "pygments_lexer": "ipython3",
   "version": "3.9.10"
  }
 },
 "nbformat": 4,
 "nbformat_minor": 5
}
